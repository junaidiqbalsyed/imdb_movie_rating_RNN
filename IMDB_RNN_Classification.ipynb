{
  "nbformat": 4,
  "nbformat_minor": 0,
  "metadata": {
    "colab": {
      "name": "IMDB_RNN_Classification",
      "provenance": [],
      "collapsed_sections": []
    },
    "kernelspec": {
      "name": "python3",
      "display_name": "Python 3"
    },
    "language_info": {
      "name": "python"
    },
    "accelerator": "GPU"
  },
  "cells": [
    {
      "cell_type": "code",
      "metadata": {
        "id": "vx_uT-Jav4Si"
      },
      "source": [
        "# load the data from dataset\n",
        "\n",
        "from keras.datasets import  imdb\n",
        "\n",
        "import matplotlib.pyplot as plt\n",
        "import numpy as np\n"
      ],
      "execution_count": 1,
      "outputs": []
    },
    {
      "cell_type": "code",
      "metadata": {
        "colab": {
          "base_uri": "https://localhost:8080/"
        },
        "id": "jUEUieAbwciR",
        "outputId": "81e9172a-6a1f-4bb1-d59e-8b9c707284bd"
      },
      "source": [
        "((X_train, y_train),(X_test, y_test)) = imdb.load_data(num_words= 10000)"
      ],
      "execution_count": 2,
      "outputs": [
        {
          "output_type": "stream",
          "text": [
            "Downloading data from https://storage.googleapis.com/tensorflow/tf-keras-datasets/imdb.npz\n",
            "17465344/17464789 [==============================] - 0s 0us/step\n"
          ],
          "name": "stdout"
        },
        {
          "output_type": "stream",
          "text": [
            "<string>:6: VisibleDeprecationWarning: Creating an ndarray from ragged nested sequences (which is a list-or-tuple of lists-or-tuples-or ndarrays with different lengths or shapes) is deprecated. If you meant to do this, you must specify 'dtype=object' when creating the ndarray\n",
            "/usr/local/lib/python3.7/dist-packages/tensorflow/python/keras/datasets/imdb.py:159: VisibleDeprecationWarning: Creating an ndarray from ragged nested sequences (which is a list-or-tuple of lists-or-tuples-or ndarrays with different lengths or shapes) is deprecated. If you meant to do this, you must specify 'dtype=object' when creating the ndarray\n",
            "  x_train, y_train = np.array(xs[:idx]), np.array(labels[:idx])\n",
            "/usr/local/lib/python3.7/dist-packages/tensorflow/python/keras/datasets/imdb.py:160: VisibleDeprecationWarning: Creating an ndarray from ragged nested sequences (which is a list-or-tuple of lists-or-tuples-or ndarrays with different lengths or shapes) is deprecated. If you meant to do this, you must specify 'dtype=object' when creating the ndarray\n",
            "  x_test, y_test = np.array(xs[idx:]), np.array(labels[idx:])\n"
          ],
          "name": "stderr"
        }
      ]
    },
    {
      "cell_type": "code",
      "metadata": {
        "colab": {
          "base_uri": "https://localhost:8080/"
        },
        "id": "lHWb7lBhwqtn",
        "outputId": "3a6da2ff-c84d-49cb-c0f5-f3469b7ea527"
      },
      "source": [
        "print(len(X_train))\n",
        "print(len(X_test))"
      ],
      "execution_count": 3,
      "outputs": [
        {
          "output_type": "stream",
          "text": [
            "25000\n",
            "25000\n"
          ],
          "name": "stdout"
        }
      ]
    },
    {
      "cell_type": "code",
      "metadata": {
        "colab": {
          "base_uri": "https://localhost:8080/"
        },
        "id": "1_AfDwLkw0mY",
        "outputId": "14a01eb2-9571-4085-c975-d362ee154b9c"
      },
      "source": [
        "print(X_train[0])\n",
        "print()\n",
        "print(len(X_train[0]))"
      ],
      "execution_count": 4,
      "outputs": [
        {
          "output_type": "stream",
          "text": [
            "[1, 14, 22, 16, 43, 530, 973, 1622, 1385, 65, 458, 4468, 66, 3941, 4, 173, 36, 256, 5, 25, 100, 43, 838, 112, 50, 670, 2, 9, 35, 480, 284, 5, 150, 4, 172, 112, 167, 2, 336, 385, 39, 4, 172, 4536, 1111, 17, 546, 38, 13, 447, 4, 192, 50, 16, 6, 147, 2025, 19, 14, 22, 4, 1920, 4613, 469, 4, 22, 71, 87, 12, 16, 43, 530, 38, 76, 15, 13, 1247, 4, 22, 17, 515, 17, 12, 16, 626, 18, 2, 5, 62, 386, 12, 8, 316, 8, 106, 5, 4, 2223, 5244, 16, 480, 66, 3785, 33, 4, 130, 12, 16, 38, 619, 5, 25, 124, 51, 36, 135, 48, 25, 1415, 33, 6, 22, 12, 215, 28, 77, 52, 5, 14, 407, 16, 82, 2, 8, 4, 107, 117, 5952, 15, 256, 4, 2, 7, 3766, 5, 723, 36, 71, 43, 530, 476, 26, 400, 317, 46, 7, 4, 2, 1029, 13, 104, 88, 4, 381, 15, 297, 98, 32, 2071, 56, 26, 141, 6, 194, 7486, 18, 4, 226, 22, 21, 134, 476, 26, 480, 5, 144, 30, 5535, 18, 51, 36, 28, 224, 92, 25, 104, 4, 226, 65, 16, 38, 1334, 88, 12, 16, 283, 5, 16, 4472, 113, 103, 32, 15, 16, 5345, 19, 178, 32]\n",
            "\n",
            "218\n"
          ],
          "name": "stdout"
        }
      ]
    },
    {
      "cell_type": "code",
      "metadata": {
        "colab": {
          "base_uri": "https://localhost:8080/"
        },
        "id": "f-2rMwXOw6bh",
        "outputId": "7ef7a450-7cf6-4e42-ccb1-f89e69db3503"
      },
      "source": [
        "# we are basically trying to get the mapping . i.e a word is represented by what number \n",
        "\n",
        "word_idx = imdb.get_word_index()"
      ],
      "execution_count": 5,
      "outputs": [
        {
          "output_type": "stream",
          "text": [
            "Downloading data from https://storage.googleapis.com/tensorflow/tf-keras-datasets/imdb_word_index.json\n",
            "1646592/1641221 [==============================] - 0s 0us/step\n"
          ],
          "name": "stdout"
        }
      ]
    },
    {
      "cell_type": "code",
      "metadata": {
        "id": "JqVDSS9yxgyW"
      },
      "source": [
        "# this is giveing me a detionary of words , that is mapped to a number \n",
        "print(word_idx.items())"
      ],
      "execution_count": null,
      "outputs": []
    },
    {
      "cell_type": "code",
      "metadata": {
        "colab": {
          "base_uri": "https://localhost:8080/"
        },
        "id": "TyhfkymDxlKX",
        "outputId": "c3db5c6f-d110-4f1f-f35b-d8568f447852"
      },
      "source": [
        "\"\"\"\n",
        "in this block we will decode and see what is the comment is the first X_test[0]\n",
        "\"\"\"\n",
        "\n",
        "idx_word = dict([value, key] for (key, value) in word_idx.items())\n",
        "\n",
        "sent = \" \".join([ idx_word.get(idx-3, '?') for idx in X_train[0]] )\n",
        "\n",
        "print(sent)\n",
        "\n",
        "\n",
        "#NOTE:- we will be using the index values only "
      ],
      "execution_count": 7,
      "outputs": [
        {
          "output_type": "stream",
          "text": [
            "? this film was just brilliant casting location scenery story direction everyone's really suited the part they played and you could just imagine being there robert ? is an amazing actor and now the same being director ? father came from the same scottish island as myself so i loved the fact there was a real connection with this film the witty remarks throughout the film were great it was just brilliant so much that i bought the film as soon as it was released for ? and would recommend it to everyone to watch and the fly fishing was amazing really cried at the end it was so sad and you know what they say if you cry at a film it must have been good and this definitely was also ? to the two little boy's that played the ? of norman and paul they were just brilliant children are often left out of the ? list i think because the stars that play them all grown up are such a big profile for the whole film but these children are amazing and should be praised for what they have done don't you think the whole story was so lovely because it was true and was someone's life after all that was shared with us all\n"
          ],
          "name": "stdout"
        }
      ]
    },
    {
      "cell_type": "markdown",
      "metadata": {
        "id": "ZM_g7J_H10wi"
      },
      "source": [
        "**Now we will work on word embedding **\n",
        "\n",
        "* The way embedding layer works in keras is by passing a value rather than one hot vector. \n",
        "* We specify the length of the sentence . \n",
        "      * any longer sentence will be cropped \n",
        "      * shorter rentence will be padded "
      ]
    },
    {
      "cell_type": "code",
      "metadata": {
        "id": "0C8mRPbbzEgf"
      },
      "source": [
        "# create a 2-D tensor , so that it can be preoceeed by embedding layer \n",
        "\n",
        "from keras.preprocessing import sequence\n",
        "\n",
        "X_train = sequence.pad_sequences(sequences= X_train, maxlen= 500)\n",
        "X_test = sequence.pad_sequences(sequences= X_test , maxlen= 500)"
      ],
      "execution_count": 8,
      "outputs": []
    },
    {
      "cell_type": "code",
      "metadata": {
        "colab": {
          "base_uri": "https://localhost:8080/"
        },
        "id": "f0Rl9Xgt2Rci",
        "outputId": "3d46e526-e1bf-4101-8311-10b57c682ed3"
      },
      "source": [
        "X_train.shape , X_test.shape"
      ],
      "execution_count": 9,
      "outputs": [
        {
          "output_type": "execute_result",
          "data": {
            "text/plain": [
              "((25000, 500), (25000, 500))"
            ]
          },
          "metadata": {
            "tags": []
          },
          "execution_count": 9
        }
      ]
    },
    {
      "cell_type": "code",
      "metadata": {
        "colab": {
          "base_uri": "https://localhost:8080/"
        },
        "id": "xRHmCkoK2qe-",
        "outputId": "1f8ac4e3-bd60-4e2b-edee-adc14a29eea7"
      },
      "source": [
        "# Now we create a RNN model \n",
        "\n",
        "from keras.layers import Embedding\n",
        "from keras.models import Sequential\n",
        "from keras.layers import  SimpleRNN , Dense\n",
        "\n",
        "\n",
        "#Step 1 : Embedding our data \n",
        "model = Sequential()\n",
        "model.add(Embedding(100000, 64 ))  # why 1Lac ? caz its a (10K * 10K) matrix  # embedding layer dimention (Batch size, max length , k) e.e k = 10 here \n",
        "\n",
        "#Step 2: The o/p of embedding is a RNN layer \n",
        "model.add(SimpleRNN(units= 32 , ))   # the units is the number of context layer # num of RNN cell is == Batch size(i.e max len)\n",
        "model.add(Dense(1, activation= \"sigmoid\"))\n",
        "\n",
        "model.summary()"
      ],
      "execution_count": 10,
      "outputs": [
        {
          "output_type": "stream",
          "text": [
            "Model: \"sequential\"\n",
            "_________________________________________________________________\n",
            "Layer (type)                 Output Shape              Param #   \n",
            "=================================================================\n",
            "embedding (Embedding)        (None, None, 64)          6400000   \n",
            "_________________________________________________________________\n",
            "simple_rnn (SimpleRNN)       (None, 32)                3104      \n",
            "_________________________________________________________________\n",
            "dense (Dense)                (None, 1)                 33        \n",
            "=================================================================\n",
            "Total params: 6,403,137\n",
            "Trainable params: 6,403,137\n",
            "Non-trainable params: 0\n",
            "_________________________________________________________________\n"
          ],
          "name": "stdout"
        }
      ]
    },
    {
      "cell_type": "code",
      "metadata": {
        "id": "_RIlDASCClVq"
      },
      "source": [
        "model.compile(optimizer= 'adam', loss = \"binary_crossentropy\" , metrics=['acc'])"
      ],
      "execution_count": 12,
      "outputs": []
    },
    {
      "cell_type": "code",
      "metadata": {
        "id": "H6zlB5rMElYe"
      },
      "source": [
        "from keras.callbacks import EarlyStopping\n",
        "from keras.callbacks import ModelCheckpoint"
      ],
      "execution_count": 13,
      "outputs": []
    },
    {
      "cell_type": "code",
      "metadata": {
        "id": "i9_0KQmLGcLJ"
      },
      "source": [
        "es = EarlyStopping(monitor=\"val_acc\", min_delta= 0.1 , patience= 4, verbose= 1 )\n",
        "mc = ModelCheckpoint(monitor= \"val_acc\", filepath=\"bestmodel.h5\", verbose= 1, save_best_only= True)"
      ],
      "execution_count": 14,
      "outputs": []
    },
    {
      "cell_type": "code",
      "metadata": {
        "colab": {
          "base_uri": "https://localhost:8080/"
        },
        "id": "O1U7sMQc3DjE",
        "outputId": "95e9273d-8fc5-4635-cab9-093ebbe1109f"
      },
      "source": [
        "hist = model.fit(X_train, y_train, validation_split=0.2, epochs=10 , batch_size= 128, callbacks=[es,mc])"
      ],
      "execution_count": 15,
      "outputs": [
        {
          "output_type": "stream",
          "text": [
            "Epoch 1/10\n",
            "157/157 [==============================] - 59s 355ms/step - loss: 0.6775 - acc: 0.5593 - val_loss: 0.7815 - val_acc: 0.5330\n",
            "\n",
            "Epoch 00001: val_acc improved from -inf to 0.53300, saving model to bestmodel.h5\n",
            "Epoch 2/10\n",
            "157/157 [==============================] - 56s 354ms/step - loss: 0.5283 - acc: 0.7420 - val_loss: 0.4679 - val_acc: 0.7824\n",
            "\n",
            "Epoch 00002: val_acc improved from 0.53300 to 0.78240, saving model to bestmodel.h5\n",
            "Epoch 3/10\n",
            "157/157 [==============================] - 56s 357ms/step - loss: 0.3358 - acc: 0.8619 - val_loss: 0.4086 - val_acc: 0.8206\n",
            "\n",
            "Epoch 00003: val_acc improved from 0.78240 to 0.82060, saving model to bestmodel.h5\n",
            "Epoch 4/10\n",
            "157/157 [==============================] - 56s 354ms/step - loss: 0.2091 - acc: 0.9238 - val_loss: 0.4151 - val_acc: 0.8340\n",
            "\n",
            "Epoch 00004: val_acc improved from 0.82060 to 0.83400, saving model to bestmodel.h5\n",
            "Epoch 5/10\n",
            "157/157 [==============================] - 55s 352ms/step - loss: 0.1238 - acc: 0.9597 - val_loss: 0.4698 - val_acc: 0.8240\n",
            "\n",
            "Epoch 00005: val_acc did not improve from 0.83400\n",
            "Epoch 6/10\n",
            "157/157 [==============================] - 56s 357ms/step - loss: 0.0552 - acc: 0.9868 - val_loss: 0.5201 - val_acc: 0.8300\n",
            "\n",
            "Epoch 00006: val_acc did not improve from 0.83400\n",
            "Epoch 00006: early stopping\n"
          ],
          "name": "stdout"
        }
      ]
    },
    {
      "cell_type": "code",
      "metadata": {
        "id": "Fo7rz8zfITJ3"
      },
      "source": [
        "history = hist.history"
      ],
      "execution_count": 16,
      "outputs": []
    },
    {
      "cell_type": "code",
      "metadata": {
        "colab": {
          "base_uri": "https://localhost:8080/",
          "height": 281
        },
        "id": "RYVRD9MaIWVk",
        "outputId": "d2952a9c-ce6b-4eca-b0b3-d87d2547db61"
      },
      "source": [
        "plt.plot(history['acc'], c = 'green')\n",
        "plt.plot(history['val_acc'], c = 'blue')\n",
        "plt.title(\"acc vs val_Acc\")\n",
        "plt.show()"
      ],
      "execution_count": 17,
      "outputs": [
        {
          "output_type": "display_data",
          "data": {
            "image/png": "[encoded data removed]",
            "text/plain": [
              "<Figure size 432x288 with 1 Axes>"
            ]
          },
          "metadata": {
            "tags": [],
            "needs_background": "light"
          }
        }
      ]
    },
    {
      "cell_type": "code",
      "metadata": {
        "colab": {
          "base_uri": "https://localhost:8080/",
          "height": 281
        },
        "id": "HC-j9oqkIjUG",
        "outputId": "1b366fb8-db6d-4349-9624-578dd5243265"
      },
      "source": [
        "plt.plot(history['loss'], c = 'green')\n",
        "plt.plot(history['val_loss'], c = 'blue')\n",
        "plt.title(\"loss vs val_loss\")\n",
        "plt.show()"
      ],
      "execution_count": 18,
      "outputs": [
        {
          "output_type": "display_data",
          "data": {
            "image/png": "[encoded data removed]",
            "text/plain": [
              "<Figure size 432x288 with 1 Axes>"
            ]
          },
          "metadata": {
            "tags": [],
            "needs_background": "light"
          }
        }
      ]
    },
    {
      "cell_type": "code",
      "metadata": {
        "colab": {
          "base_uri": "https://localhost:8080/"
        },
        "id": "5-CdCKtjI5qC",
        "outputId": "cff16a87-4ac5-4f64-bcad-46e37ca7a7fc"
      },
      "source": [
        "# getting the prediction on the test data\n",
        "y_pred = model.predict_classes(X_test)"
      ],
      "execution_count": 19,
      "outputs": [
        {
          "output_type": "stream",
          "text": [
            "/usr/local/lib/python3.7/dist-packages/tensorflow/python/keras/engine/sequential.py:450: UserWarning: `model.predict_classes()` is deprecated and will be removed after 2021-01-01. Please use instead:* `np.argmax(model.predict(x), axis=-1)`,   if your model does multi-class classification   (e.g. if it uses a `softmax` last-layer activation).* `(model.predict(x) > 0.5).astype(\"int32\")`,   if your model does binary classification   (e.g. if it uses a `sigmoid` last-layer activation).\n",
            "  warnings.warn('`model.predict_classes()` is deprecated and '\n"
          ],
          "name": "stderr"
        }
      ]
    },
    {
      "cell_type": "code",
      "metadata": {
        "colab": {
          "base_uri": "https://localhost:8080/"
        },
        "id": "BjnUpHU2JUsE",
        "outputId": "b44934f8-847f-4a1d-dacf-6a4596f7f6c3"
      },
      "source": [
        "from sklearn.metrics import  confusion_matrix\n",
        "cm = confusion_matrix(y_test, y_pred)\n",
        "cm"
      ],
      "execution_count": 20,
      "outputs": [
        {
          "output_type": "execute_result",
          "data": {
            "text/plain": [
              "array([[10099,  2401],\n",
              "       [ 1930, 10570]])"
            ]
          },
          "metadata": {
            "tags": []
          },
          "execution_count": 20
        }
      ]
    },
    {
      "cell_type": "code",
      "metadata": {
        "colab": {
          "base_uri": "https://localhost:8080/",
          "height": 282
        },
        "id": "6cNVONNXJ0Cn",
        "outputId": "3fea3e15-0aa4-470a-a838-5ecd1efed9eb"
      },
      "source": [
        "import seaborn as sns\n",
        "\n",
        "\n",
        "group_names = [\"True Neg\",\"False Pos\",\"False Neg\",\"True Pos\"]\n",
        "\n",
        "group_counts = [\"{0:0.0f}\".format(value) for value in\n",
        "                cm.flatten()]\n",
        "                \n",
        "group_percentages = [\"{0:.2%}\".format(value) for value in\n",
        "                     cm.flatten()/np.sum(cm)]\n",
        "\n",
        "labels = [f\"{v1}\\n{v2}\\n{v3}\" for v1, v2, v3 in\n",
        "          zip(group_names,group_counts,group_percentages)]\n",
        "\n",
        "labels = np.asarray(labels).reshape(2,2)\n",
        "\n",
        "sns.heatmap(cm, annot=labels, fmt=\"\", cmap='Blues')"
      ],
      "execution_count": 21,
      "outputs": [
        {
          "output_type": "execute_result",
          "data": {
            "text/plain": [
              "<matplotlib.axes._subplots.AxesSubplot at 0x7fc169a2aad0>"
            ]
          },
          "metadata": {
            "tags": []
          },
          "execution_count": 21
        },
        {
          "output_type": "display_data",
          "data": {
            "image/png": "[encoded data removed]",
            "text/plain": [
              "<Figure size 432x288 with 2 Axes>"
            ]
          },
          "metadata": {
            "tags": [],
            "needs_background": "light"
          }
        }
      ]
    },
    {
      "cell_type": "code",
      "metadata": {
        "id": "iqbyTvcTKpxN"
      },
      "source": [
        ""
      ],
      "execution_count": null,
      "outputs": []
    }
  ]
}